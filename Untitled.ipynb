{
 "cells": [
  {
   "cell_type": "code",
   "execution_count": 1,
   "id": "641dcd31-da89-4151-affb-5b78d869ffb6",
   "metadata": {},
   "outputs": [
    {
     "name": "stdout",
     "output_type": "stream",
     "text": [
      "Ближайшая симметричная матрица:\n",
      "[[0.36 0.45 0.14]\n",
      " [0.45 0.4  0.8 ]\n",
      " [0.14 0.8  0.6 ]]\n",
      "\n",
      "Результат итеративного подхода:\n",
      "Эпоха 1, Потери: 0.0250\n",
      "Эпоха 2, Потери: 0.0250\n",
      "Эпоха 3, Потери: 0.0250\n",
      "Эпоха 4, Потери: 0.0250\n",
      "Эпоха 5, Потери: 0.0250\n",
      "Эпоха 6, Потери: 0.0250\n",
      "Эпоха 7, Потери: 0.0250\n",
      "Эпоха 8, Потери: 0.0250\n",
      "Эпоха 9, Потери: 0.0250\n",
      "Эпоха 10, Потери: 0.0250\n",
      "[[0.36 0.45 0.14]\n",
      " [0.45 0.4  0.8 ]\n",
      " [0.14 0.8  0.6 ]]\n"
     ]
    }
   ],
   "source": [
    "import numpy as np\n",
    "\n",
    "def nearest_symmetric_matrix(matrix):\n",
    "    # Аналитическое решение: среднее матрицы и её транспонированной\n",
    "    matrix = np.array(matrix)\n",
    "    return (matrix + matrix.T) / 2\n",
    "\n",
    "# Исходная испорченная матрица\n",
    "Sigma_hat = np.array([\n",
    "    [0.36, 0.5, 0.14],\n",
    "    [0.4, 0.4, 0.9],\n",
    "    [0.14, 0.7, 0.6]\n",
    "])\n",
    "\n",
    "# Вычисление ближайшей симметричной матрицы\n",
    "Sigma_star = nearest_symmetric_matrix(Sigma_hat)\n",
    "\n",
    "print(\"Ближайшая симметричная матрица:\")\n",
    "print(Sigma_star)\n",
    "\n",
    "# Итеративный подход с проекцией на каждой эпохе (для демонстрации)\n",
    "def gradient_descent_approach(Sigma_hat, epochs=1, learning_rate=0.1):\n",
    "    Sigma = Sigma_hat.copy()\n",
    "    for epoch in range(epochs):\n",
    "        # Проекция на симметричные матрицы\n",
    "        Sigma = (Sigma + Sigma.T) / 2\n",
    "        # Вычисление потерь\n",
    "        loss = np.sum((Sigma - Sigma_hat) ** 2)\n",
    "        print(f\"Эпоха {epoch + 1}, Потери: {loss:.4f}\")\n",
    "    return Sigma\n",
    "\n",
    "# Применение градиентного спуска (сходится за одну эпоху)\n",
    "print(\"\\nРезультат итеративного подхода:\")\n",
    "Sigma_result = gradient_descent_approach(Sigma_hat, epochs=10)\n",
    "print(Sigma_result)"
   ]
  },
  {
   "cell_type": "code",
   "execution_count": 30,
   "id": "da2f1d3e-6f35-45ef-bae9-37747afc4ad7",
   "metadata": {},
   "outputs": [
    {
     "name": "stdout",
     "output_type": "stream",
     "text": [
      "[[1. 1. 2. 1. 1.]\n",
      " [1. 2. 3. 2. 1.]\n",
      " [2. 3. 5. 3. 2.]\n",
      " [1. 2. 3. 2. 1.]\n",
      " [1. 1. 2. 1. 1.]]\n"
     ]
    }
   ],
   "source": [
    "import torch\n",
    "import torch.nn as nn\n",
    "\n",
    "# Исходный тензор (5x5)\n",
    "source = torch.tensor([\n",
    "    [0, 0, 0, 0, 0],\n",
    "    [0, 1, 1, 1, 0],\n",
    "    [0, 1, 1, 1, 0],\n",
    "    [0, 1, 1, 1, 0],\n",
    "    [0, 0, 0, 0, 0]\n",
    "], dtype=torch.float32).unsqueeze(0).unsqueeze(0)  # форма (1, 1, 5, 5)\n",
    "\n",
    "# Создаем сверточный слой с параметрами Димы\n",
    "conv = nn.Conv2d(\n",
    "    in_channels=1,\n",
    "    out_channels=1,\n",
    "    kernel_size=3,      # ядро 3x3\n",
    "    stride=1,           # шаг 1\n",
    "    padding=1,          # паддинг 1 (ключевой параметр!)\n",
    "    dilation=1,\n",
    "    bias=False          # без смещения\n",
    ")\n",
    "\n",
    "# Задаем веса ядра вручную\n",
    "kernel = torch.tensor([\n",
    "    [1, 0, 1],\n",
    "    [0, 1, 0],\n",
    "    [1, 0, 1]\n",
    "], dtype=torch.float32).unsqueeze(0).unsqueeze(0)  # форма (1, 1, 3, 3)\n",
    "\n",
    "conv.weight.data = kernel\n",
    "\n",
    "# Применяем свертку\n",
    "output = conv(source)\n",
    "\n",
    "print(output.squeeze().detach().numpy())"
   ]
  },
  {
   "cell_type": "code",
   "execution_count": 33,
   "id": "e904ace1-1194-428e-9a17-d67dbceda9d6",
   "metadata": {},
   "outputs": [
    {
     "name": "stdout",
     "output_type": "stream",
     "text": [
      "[[2. 1. 2.]\n",
      " [1. 1. 1.]\n",
      " [2. 1. 2.]]\n"
     ]
    }
   ],
   "source": [
    "import torch\n",
    "import torch.nn as nn\n",
    "\n",
    "# Исходный тензор (5x5)\n",
    "source = torch.tensor([\n",
    "    [0, 0, 0, 0, 0],\n",
    "    [0, 1, 1, 1, 0],\n",
    "    [0, 1, 1, 1, 0],\n",
    "    [0, 1, 1, 1, 0],\n",
    "    [0, 0, 0, 0, 0]\n",
    "], dtype=torch.float32).unsqueeze(0).unsqueeze(0)  # форма (1, 1, 5, 5)\n",
    "\n",
    "# Создаем сверточный слой с параметрами Димы\n",
    "conv = nn.Conv2d(\n",
    "    in_channels=1,\n",
    "    out_channels=1,\n",
    "    kernel_size=3,      # ядро 3x3\n",
    "    stride=1,           # шаг 1\n",
    "    padding=1,          # паддинг 1 (ключевой параметр!)\n",
    "    dilation=2,\n",
    "    bias=False          # без смещения\n",
    ")\n",
    "# Задаем веса ядра вручную\n",
    "kernel = torch.tensor([\n",
    "    [1, 0, 1],\n",
    "    [0, 1, 0],\n",
    "    [1, 0, 1]\n",
    "], dtype=torch.float32).unsqueeze(0).unsqueeze(0)  # форма (1, 1, 3, 3)\n",
    "\n",
    "conv.weight.data = kernel\n",
    "\n",
    "# Применяем свертку\n",
    "output = conv(source)\n",
    "\n",
    "print(output.squeeze().detach().numpy())"
   ]
  },
  {
   "cell_type": "code",
   "execution_count": null,
   "id": "938c381f-9690-4a24-906d-b76d94a1b1a9",
   "metadata": {},
   "outputs": [],
   "source": []
  }
 ],
 "metadata": {
  "kernelspec": {
   "display_name": "Python (myenv_py37)",
   "language": "python",
   "name": "myenv_py37"
  },
  "language_info": {
   "codemirror_mode": {
    "name": "ipython",
    "version": 3
   },
   "file_extension": ".py",
   "mimetype": "text/x-python",
   "name": "python",
   "nbconvert_exporter": "python",
   "pygments_lexer": "ipython3",
   "version": "3.7.16"
  }
 },
 "nbformat": 4,
 "nbformat_minor": 5
}
